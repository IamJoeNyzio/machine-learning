{
 "cells": [
  {
   "cell_type": "code",
   "execution_count": 34,
   "metadata": {
    "collapsed": true
   },
   "outputs": [],
   "source": [
    "import tensorflow as tf"
   ]
  },
  {
   "cell_type": "code",
   "execution_count": 4,
   "metadata": {
    "collapsed": false
   },
   "outputs": [
    {
     "name": "stdout",
     "output_type": "stream",
     "text": [
      "Tensor(\"Const_3:0\", shape=(), dtype=float32) Tensor(\"Const_4:0\", shape=(), dtype=float32)\n"
     ]
    }
   ],
   "source": [
    "# Create Computational Graph - a series of TensorFlow operations arranged into a graph of nodes\n",
    "node1 = tf.constant(3.0, dtype=tf.float32)\n",
    "node2 = tf.constant(4.0)\n",
    "print (node1, node2)"
   ]
  },
  {
   "cell_type": "code",
   "execution_count": 6,
   "metadata": {
    "collapsed": false
   },
   "outputs": [
    {
     "name": "stdout",
     "output_type": "stream",
     "text": [
      "[3.0, 4.0]\n"
     ]
    }
   ],
   "source": [
    "# Create a session object - To actually evaluate the nodes, we must run the computational graph within a session. \n",
    "# A session encapsulates the control and state of the TensorFlow runtime\n",
    "\n",
    "session = tf.Session()\n",
    "print (session.run([node1, node2]))"
   ]
  },
  {
   "cell_type": "code",
   "execution_count": 9,
   "metadata": {
    "collapsed": false
   },
   "outputs": [
    {
     "name": "stdout",
     "output_type": "stream",
     "text": [
      "node3: Tensor(\"Add_2:0\", shape=(), dtype=float32)\n",
      "session.run(node3): 7.0\n"
     ]
    }
   ],
   "source": [
    "# Computations with tensorflow\n",
    "\n",
    "node3 = tf.add(node1, node2)\n",
    "print(\"node3:\", node3)\n",
    "print(\"session.run(node3):\", session.run(node3))"
   ]
  },
  {
   "cell_type": "code",
   "execution_count": 12,
   "metadata": {
    "collapsed": false
   },
   "outputs": [],
   "source": [
    "# Placeholder - a promise to provide a value later.\n",
    "a = tf.placeholder(tf.float32)\n",
    "b = tf.placeholder(tf.float32)\n",
    "\n",
    "adder_node = a + b # + provides a shortcut for tf.add(a, b)"
   ]
  },
  {
   "cell_type": "code",
   "execution_count": 13,
   "metadata": {
    "collapsed": false
   },
   "outputs": [
    {
     "name": "stdout",
     "output_type": "stream",
     "text": [
      "7.5\n",
      "[ 3.  7.]\n"
     ]
    }
   ],
   "source": [
    "print(session.run(adder_node, {a:3, b:4.5} ))\n",
    "print(session.run(adder_node, {a:[1,3], b:[2,4]} ))"
   ]
  },
  {
   "cell_type": "code",
   "execution_count": 14,
   "metadata": {
    "collapsed": false
   },
   "outputs": [
    {
     "name": "stdout",
     "output_type": "stream",
     "text": [
      "22.5\n"
     ]
    }
   ],
   "source": [
    "add_and_triple = adder_node * 3\n",
    "print(session.run(add_and_triple, {a:3, b:4.5}))"
   ]
  },
  {
   "cell_type": "markdown",
   "metadata": {},
   "source": [
    "## Variables"
   ]
  },
  {
   "cell_type": "code",
   "execution_count": 15,
   "metadata": {
    "collapsed": true
   },
   "outputs": [],
   "source": [
    "W = tf.Variable([.3], dtype=tf.float32)\n",
    "b = tf.Variable([-.3], dtype=tf.float32)\n",
    "x = tf.placeholder(tf.float32)\n",
    "linear_model = W * x + b"
   ]
  },
  {
   "cell_type": "code",
   "execution_count": 16,
   "metadata": {
    "collapsed": true
   },
   "outputs": [],
   "source": [
    "# Initialize Variables\n",
    "initialize = tf.global_variables_initializer()\n",
    "session.run(initialize)"
   ]
  },
  {
   "cell_type": "code",
   "execution_count": 18,
   "metadata": {
    "collapsed": false
   },
   "outputs": [
    {
     "name": "stdout",
     "output_type": "stream",
     "text": [
      "[ 0.          0.30000001  0.60000002  0.90000004]\n"
     ]
    }
   ],
   "source": [
    "print(session.run(linear_model, {x:[1,2,3,4]}))"
   ]
  },
  {
   "cell_type": "markdown",
   "metadata": {},
   "source": [
    "## Loss Function"
   ]
  },
  {
   "cell_type": "code",
   "execution_count": 21,
   "metadata": {
    "collapsed": false
   },
   "outputs": [
    {
     "name": "stdout",
     "output_type": "stream",
     "text": [
      "23.66\n"
     ]
    }
   ],
   "source": [
    "y = tf.placeholder(tf.float32)\n",
    "squared_deltas = tf.square(linear_model - y)\n",
    "loss = tf.reduce_sum(squared_deltas)\n",
    "print(session.run(loss, {x:[1,2,3,4], y:[0,-1,-2,-3]}))"
   ]
  },
  {
   "cell_type": "code",
   "execution_count": 28,
   "metadata": {
    "collapsed": false
   },
   "outputs": [
    {
     "name": "stdout",
     "output_type": "stream",
     "text": [
      "0.0\n"
     ]
    }
   ],
   "source": [
    "# Manually reassign values\n",
    "fixW = tf.assign(W, [-1.])\n",
    "fixb = tf.assign(b, [1.])\n",
    "session.run([fixW, fixb])\n",
    "print(session.run(loss, {x:[1,2,3,4], y:[0,-1,-2,-3]}))"
   ]
  },
  {
   "cell_type": "markdown",
   "metadata": {},
   "source": [
    "# tf.train API"
   ]
  },
  {
   "cell_type": "code",
   "execution_count": 29,
   "metadata": {
    "collapsed": true
   },
   "outputs": [],
   "source": [
    "optimizer = tf.train.GradientDescentOptimizer(0.01)\n",
    "train = optimizer.minimize(loss)"
   ]
  },
  {
   "cell_type": "code",
   "execution_count": 31,
   "metadata": {
    "collapsed": false
   },
   "outputs": [
    {
     "name": "stdout",
     "output_type": "stream",
     "text": [
      "[array([-0.9999969], dtype=float32), array([ 0.99999082], dtype=float32)]\n"
     ]
    }
   ],
   "source": [
    "session.run(initialize) #reset values to incorrect defaults\n",
    "for i in range(1000):\n",
    "    session.run(train, {x:[1,2,3,4,],y:[0,-1,-2,-3]})\n",
    "\n",
    "print(session.run([W,b]))"
   ]
  },
  {
   "cell_type": "markdown",
   "metadata": {},
   "source": [
    "## Complete Program"
   ]
  },
  {
   "cell_type": "code",
   "execution_count": 32,
   "metadata": {
    "collapsed": false
   },
   "outputs": [
    {
     "name": "stdout",
     "output_type": "stream",
     "text": [
      "W: [-0.9999969] b: [ 0.99999082] loss: 5.69997e-11\n"
     ]
    }
   ],
   "source": [
    "import numpy as np\n",
    "import tensorflow as tf\n",
    "\n",
    "# Model parameters\n",
    "W = tf.Variable([.3], dtype=tf.float32)\n",
    "b = tf.Variable([-.3], dtype=tf.float32)\n",
    "# Model input and output\n",
    "x = tf.placeholder(tf.float32)\n",
    "linear_model = W * x + b\n",
    "y = tf.placeholder(tf.float32)\n",
    "# loss\n",
    "loss = tf.reduce_sum(tf.square(linear_model - y)) # sum of the squares\n",
    "# optimizer\n",
    "optimizer = tf.train.GradientDescentOptimizer(0.01)\n",
    "train = optimizer.minimize(loss)\n",
    "# training data\n",
    "x_train = [1,2,3,4]\n",
    "y_train = [0,-1,-2,-3]\n",
    "# training loop\n",
    "init = tf.global_variables_initializer()\n",
    "sess = tf.Session()\n",
    "sess.run(init) # reset values to wrong\n",
    "for i in range(1000):\n",
    "  sess.run(train, {x:x_train, y:y_train})\n",
    "\n",
    "# evaluate training accuracy\n",
    "curr_W, curr_b, curr_loss = sess.run([W, b, loss], {x:x_train, y:y_train})\n",
    "print(\"W: %s b: %s loss: %s\"%(curr_W, curr_b, curr_loss))"
   ]
  },
  {
   "cell_type": "markdown",
   "metadata": {},
   "source": [
    "# tf.contrib.learn"
   ]
  },
  {
   "cell_type": "code",
   "execution_count": 33,
   "metadata": {
    "collapsed": false
   },
   "outputs": [
    {
     "name": "stdout",
     "output_type": "stream",
     "text": [
      "INFO:tensorflow:Using default config.\n",
      "WARNING:tensorflow:Using temporary folder as model directory: /var/folders/0w/2r_n41l558zg71lqxj306y1c0000gn/T/tmp0l5gb8ge\n",
      "INFO:tensorflow:Using config: {'_task_type': None, '_task_id': 0, '_cluster_spec': <tensorflow.python.training.server_lib.ClusterSpec object at 0x122e13d68>, '_master': '', '_num_ps_replicas': 0, '_num_worker_replicas': 0, '_environment': 'local', '_is_chief': True, '_evaluation_master': '', '_tf_config': gpu_options {\n",
      "  per_process_gpu_memory_fraction: 1\n",
      "}\n",
      ", '_tf_random_seed': None, '_save_summary_steps': 100, '_save_checkpoints_secs': 600, '_session_config': None, '_save_checkpoints_steps': None, '_keep_checkpoint_max': 5, '_keep_checkpoint_every_n_hours': 10000, '_model_dir': '/var/folders/0w/2r_n41l558zg71lqxj306y1c0000gn/T/tmp0l5gb8ge'}\n",
      "WARNING:tensorflow:From /Users/joenyzio/anaconda/lib/python3.6/site-packages/tensorflow/contrib/learn/python/learn/estimators/head.py:625: scalar_summary (from tensorflow.python.ops.logging_ops) is deprecated and will be removed after 2016-11-30.\n",
      "Instructions for updating:\n",
      "Please switch to tf.summary.scalar. Note that tf.summary.scalar uses the node name instead of the tag. This means that TensorFlow will automatically de-duplicate summary names based on the scope they are created in. Also, passing a tensor or list of tags to a scalar summary op is no longer supported.\n",
      "INFO:tensorflow:Create CheckpointSaverHook.\n",
      "INFO:tensorflow:Saving checkpoints for 1 into /var/folders/0w/2r_n41l558zg71lqxj306y1c0000gn/T/tmp0l5gb8ge/model.ckpt.\n",
      "INFO:tensorflow:loss = 7.75, step = 1\n",
      "INFO:tensorflow:global_step/sec: 1303.9\n",
      "INFO:tensorflow:loss = 0.059836, step = 101 (0.078 sec)\n",
      "INFO:tensorflow:global_step/sec: 1417.57\n",
      "INFO:tensorflow:loss = 0.0374266, step = 201 (0.070 sec)\n",
      "INFO:tensorflow:global_step/sec: 1407.08\n",
      "INFO:tensorflow:loss = 0.00600585, step = 301 (0.071 sec)\n",
      "INFO:tensorflow:global_step/sec: 1388.66\n",
      "INFO:tensorflow:loss = 0.00287566, step = 401 (0.072 sec)\n",
      "INFO:tensorflow:global_step/sec: 1328.91\n",
      "INFO:tensorflow:loss = 0.000933343, step = 501 (0.075 sec)\n",
      "INFO:tensorflow:global_step/sec: 1387.04\n",
      "INFO:tensorflow:loss = 0.000761659, step = 601 (0.072 sec)\n",
      "INFO:tensorflow:global_step/sec: 1346.73\n",
      "INFO:tensorflow:loss = 0.000179244, step = 701 (0.074 sec)\n",
      "INFO:tensorflow:global_step/sec: 1388.89\n",
      "INFO:tensorflow:loss = 7.10885e-05, step = 801 (0.072 sec)\n",
      "INFO:tensorflow:global_step/sec: 1581.28\n",
      "INFO:tensorflow:loss = 1.80643e-05, step = 901 (0.063 sec)\n",
      "INFO:tensorflow:Saving checkpoints for 1000 into /var/folders/0w/2r_n41l558zg71lqxj306y1c0000gn/T/tmp0l5gb8ge/model.ckpt.\n",
      "INFO:tensorflow:Loss for final step: 3.32488e-06.\n",
      "WARNING:tensorflow:From /Users/joenyzio/anaconda/lib/python3.6/site-packages/tensorflow/contrib/learn/python/learn/estimators/head.py:625: scalar_summary (from tensorflow.python.ops.logging_ops) is deprecated and will be removed after 2016-11-30.\n",
      "Instructions for updating:\n",
      "Please switch to tf.summary.scalar. Note that tf.summary.scalar uses the node name instead of the tag. This means that TensorFlow will automatically de-duplicate summary names based on the scope they are created in. Also, passing a tensor or list of tags to a scalar summary op is no longer supported.\n",
      "INFO:tensorflow:Starting evaluation at 2017-07-05-03:16:15\n",
      "INFO:tensorflow:Restoring parameters from /var/folders/0w/2r_n41l558zg71lqxj306y1c0000gn/T/tmp0l5gb8ge/model.ckpt-1000\n",
      "INFO:tensorflow:Finished evaluation at 2017-07-05-03:16:15\n",
      "INFO:tensorflow:Saving dict for global step 1000: global_step = 1000, loss = 7.79806e-06\n",
      "WARNING:tensorflow:From /Users/joenyzio/anaconda/lib/python3.6/site-packages/tensorflow/contrib/learn/python/learn/estimators/head.py:625: scalar_summary (from tensorflow.python.ops.logging_ops) is deprecated and will be removed after 2016-11-30.\n",
      "Instructions for updating:\n",
      "Please switch to tf.summary.scalar. Note that tf.summary.scalar uses the node name instead of the tag. This means that TensorFlow will automatically de-duplicate summary names based on the scope they are created in. Also, passing a tensor or list of tags to a scalar summary op is no longer supported.\n",
      "INFO:tensorflow:Starting evaluation at 2017-07-05-03:16:15\n",
      "INFO:tensorflow:Restoring parameters from /var/folders/0w/2r_n41l558zg71lqxj306y1c0000gn/T/tmp0l5gb8ge/model.ckpt-1000\n",
      "INFO:tensorflow:Finished evaluation at 2017-07-05-03:16:16\n",
      "INFO:tensorflow:Saving dict for global step 1000: global_step = 1000, loss = 0.00286202\n",
      "train loss: {'loss': 7.7980558e-06, 'global_step': 1000}\n",
      "eval loss: {'loss': 0.0028620176, 'global_step': 1000}\n"
     ]
    }
   ],
   "source": [
    "import tensorflow as tf\n",
    "# NumPy is often used to load, manipulate and preprocess data.\n",
    "import numpy as np\n",
    "\n",
    "# Declare list of features. We only have one real-valued feature. There are many\n",
    "# other types of columns that are more complicated and useful.\n",
    "features = [tf.contrib.layers.real_valued_column(\"x\", dimension=1)]\n",
    "\n",
    "# An estimator is the front end to invoke training (fitting) and evaluation\n",
    "# (inference). There are many predefined types like linear regression,\n",
    "# logistic regression, linear classification, logistic classification, and\n",
    "# many neural network classifiers and regressors. The following code\n",
    "# provides an estimator that does linear regression.\n",
    "estimator = tf.contrib.learn.LinearRegressor(feature_columns=features)\n",
    "\n",
    "# TensorFlow provides many helper methods to read and set up data sets.\n",
    "# Here we use two data sets: one for training and one for evaluation\n",
    "# We have to tell the function how many batches\n",
    "# of data (num_epochs) we want and how big each batch should be.\n",
    "x_train = np.array([1., 2., 3., 4.])\n",
    "y_train = np.array([0., -1., -2., -3.])\n",
    "x_eval = np.array([2., 5., 8., 1.])\n",
    "y_eval = np.array([-1.01, -4.1, -7, 0.])\n",
    "input_fn = tf.contrib.learn.io.numpy_input_fn({\"x\":x_train}, y_train,\n",
    "                                              batch_size=4,\n",
    "                                              num_epochs=1000)\n",
    "eval_input_fn = tf.contrib.learn.io.numpy_input_fn(\n",
    "    {\"x\":x_eval}, y_eval, batch_size=4, num_epochs=1000)\n",
    "\n",
    "# We can invoke 1000 training steps by invoking the  method and passing the\n",
    "# training data set.\n",
    "estimator.fit(input_fn=input_fn, steps=1000)\n",
    "\n",
    "# Here we evaluate how well our model did.\n",
    "train_loss = estimator.evaluate(input_fn=input_fn)\n",
    "eval_loss = estimator.evaluate(input_fn=eval_input_fn)\n",
    "print(\"train loss: %r\"% train_loss)\n",
    "print(\"eval loss: %r\"% eval_loss)"
   ]
  },
  {
   "cell_type": "code",
   "execution_count": 35,
   "metadata": {
    "collapsed": false
   },
   "outputs": [
    {
     "name": "stdout",
     "output_type": "stream",
     "text": [
      "INFO:tensorflow:Using default config.\n",
      "WARNING:tensorflow:Using temporary folder as model directory: /var/folders/0w/2r_n41l558zg71lqxj306y1c0000gn/T/tmp3furer3i\n",
      "INFO:tensorflow:Using config: {'_task_type': None, '_task_id': 0, '_cluster_spec': <tensorflow.python.training.server_lib.ClusterSpec object at 0x1234b5550>, '_master': '', '_num_ps_replicas': 0, '_num_worker_replicas': 0, '_environment': 'local', '_is_chief': True, '_evaluation_master': '', '_tf_config': gpu_options {\n",
      "  per_process_gpu_memory_fraction: 1\n",
      "}\n",
      ", '_tf_random_seed': None, '_save_summary_steps': 100, '_save_checkpoints_secs': 600, '_session_config': None, '_save_checkpoints_steps': None, '_keep_checkpoint_max': 5, '_keep_checkpoint_every_n_hours': 10000, '_model_dir': '/var/folders/0w/2r_n41l558zg71lqxj306y1c0000gn/T/tmp3furer3i'}\n",
      "INFO:tensorflow:Create CheckpointSaverHook.\n",
      "INFO:tensorflow:Saving checkpoints for 1 into /var/folders/0w/2r_n41l558zg71lqxj306y1c0000gn/T/tmp3furer3i/model.ckpt.\n",
      "INFO:tensorflow:loss = 196.149864689, step = 1\n",
      "INFO:tensorflow:global_step/sec: 1244.79\n",
      "INFO:tensorflow:loss = 0.000967204275246, step = 101 (0.087 sec)\n",
      "INFO:tensorflow:global_step/sec: 864.176\n",
      "INFO:tensorflow:loss = 3.1229782968e-05, step = 201 (0.111 sec)\n",
      "INFO:tensorflow:global_step/sec: 972.074\n",
      "INFO:tensorflow:loss = 2.96886345054e-06, step = 301 (0.109 sec)\n",
      "INFO:tensorflow:global_step/sec: 1029.86\n",
      "INFO:tensorflow:loss = 8.1433313591e-08, step = 401 (0.089 sec)\n",
      "INFO:tensorflow:global_step/sec: 1252.07\n",
      "INFO:tensorflow:loss = 1.88717034095e-08, step = 501 (0.080 sec)\n",
      "INFO:tensorflow:global_step/sec: 1284.62\n",
      "INFO:tensorflow:loss = 1.37528123685e-09, step = 601 (0.078 sec)\n",
      "INFO:tensorflow:global_step/sec: 1248.41\n",
      "INFO:tensorflow:loss = 3.92514178435e-10, step = 701 (0.080 sec)\n",
      "INFO:tensorflow:global_step/sec: 1426.31\n",
      "INFO:tensorflow:loss = 4.28403497927e-11, step = 801 (0.070 sec)\n",
      "INFO:tensorflow:global_step/sec: 1856.04\n",
      "INFO:tensorflow:loss = 2.51817168496e-12, step = 901 (0.054 sec)\n",
      "INFO:tensorflow:Saving checkpoints for 1000 into /var/folders/0w/2r_n41l558zg71lqxj306y1c0000gn/T/tmp3furer3i/model.ckpt.\n",
      "INFO:tensorflow:Loss for final step: 2.18897679781e-13.\n",
      "INFO:tensorflow:Starting evaluation at 2017-07-05-03:20:32\n",
      "INFO:tensorflow:Restoring parameters from /var/folders/0w/2r_n41l558zg71lqxj306y1c0000gn/T/tmp3furer3i/model.ckpt-1000\n",
      "INFO:tensorflow:Finished evaluation at 2017-07-05-03:20:32\n",
      "INFO:tensorflow:Saving dict for global step 1000: global_step = 1000, loss = 2.63268e-13\n",
      "INFO:tensorflow:Starting evaluation at 2017-07-05-03:20:33\n",
      "INFO:tensorflow:Restoring parameters from /var/folders/0w/2r_n41l558zg71lqxj306y1c0000gn/T/tmp3furer3i/model.ckpt-1000\n",
      "INFO:tensorflow:Finished evaluation at 2017-07-05-03:20:33\n",
      "INFO:tensorflow:Saving dict for global step 1000: global_step = 1000, loss = 0.0101\n",
      "train loss: {'loss': 2.6326792e-13, 'global_step': 1000}\n",
      "eval loss: {'loss': 0.010099954, 'global_step': 1000}\n"
     ]
    }
   ],
   "source": [
    "import numpy as np\n",
    "import tensorflow as tf\n",
    "# Declare list of features, we only have one real-valued feature\n",
    "def model(features, labels, mode):\n",
    "  # Build a linear model and predict values\n",
    "  W = tf.get_variable(\"W\", [1], dtype=tf.float64)\n",
    "  b = tf.get_variable(\"b\", [1], dtype=tf.float64)\n",
    "  y = W*features['x'] + b\n",
    "  # Loss sub-graph\n",
    "  loss = tf.reduce_sum(tf.square(y - labels))\n",
    "  # Training sub-graph\n",
    "  global_step = tf.train.get_global_step()\n",
    "  optimizer = tf.train.GradientDescentOptimizer(0.01)\n",
    "  train = tf.group(optimizer.minimize(loss),\n",
    "                   tf.assign_add(global_step, 1))\n",
    "  # ModelFnOps connects subgraphs we built to the\n",
    "  # appropriate functionality.\n",
    "  return tf.contrib.learn.ModelFnOps(\n",
    "      mode=mode, predictions=y,\n",
    "      loss=loss,\n",
    "      train_op=train)\n",
    "\n",
    "estimator = tf.contrib.learn.Estimator(model_fn=model)\n",
    "# define our data sets\n",
    "x_train = np.array([1., 2., 3., 4.])\n",
    "y_train = np.array([0., -1., -2., -3.])\n",
    "x_eval = np.array([2., 5., 8., 1.])\n",
    "y_eval = np.array([-1.01, -4.1, -7, 0.])\n",
    "input_fn = tf.contrib.learn.io.numpy_input_fn({\"x\": x_train}, y_train, 4, num_epochs=1000)\n",
    "\n",
    "# train\n",
    "estimator.fit(input_fn=input_fn, steps=1000)\n",
    "# Here we evaluate how well our model did. \n",
    "train_loss = estimator.evaluate(input_fn=input_fn)\n",
    "eval_loss = estimator.evaluate(input_fn=eval_input_fn)\n",
    "print(\"train loss: %r\"% train_loss)\n",
    "print(\"eval loss: %r\"% eval_loss)"
   ]
  },
  {
   "cell_type": "code",
   "execution_count": null,
   "metadata": {
    "collapsed": true
   },
   "outputs": [],
   "source": []
  }
 ],
 "metadata": {
  "kernelspec": {
   "display_name": "Python 3",
   "language": "python",
   "name": "python3"
  },
  "language_info": {
   "codemirror_mode": {
    "name": "ipython",
    "version": 3
   },
   "file_extension": ".py",
   "mimetype": "text/x-python",
   "name": "python",
   "nbconvert_exporter": "python",
   "pygments_lexer": "ipython3",
   "version": "3.6.0"
  }
 },
 "nbformat": 4,
 "nbformat_minor": 2
}
